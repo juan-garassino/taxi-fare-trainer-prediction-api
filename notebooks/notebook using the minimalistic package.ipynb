{
 "cells": [
  {
   "cell_type": "markdown",
   "metadata": {},
   "source": [
    "# Play with the minimalistic trainer package"
   ]
  },
  {
   "cell_type": "code",
   "execution_count": 1,
   "metadata": {},
   "outputs": [],
   "source": [
    "%load_ext autoreload\n",
    "%autoreload 2"
   ]
  },
  {
   "cell_type": "code",
   "execution_count": 2,
   "metadata": {},
   "outputs": [],
   "source": [
    "from MinTrainer.lib import test"
   ]
  },
  {
   "cell_type": "code",
   "execution_count": 3,
   "metadata": {},
   "outputs": [
    {
     "name": "stdout",
     "output_type": "stream",
     "text": [
      "test\n"
     ]
    }
   ],
   "source": [
    "test()"
   ]
  },
  {
   "cell_type": "code",
   "execution_count": 4,
   "metadata": {},
   "outputs": [],
   "source": [
    "from MinTrainer.data import get_data"
   ]
  },
  {
   "cell_type": "code",
   "execution_count": 5,
   "metadata": {},
   "outputs": [],
   "source": [
    "df = get_data()"
   ]
  },
  {
   "cell_type": "code",
   "execution_count": 6,
   "metadata": {},
   "outputs": [
    {
     "data": {
      "text/html": [
       "<div>\n",
       "<style scoped>\n",
       "    .dataframe tbody tr th:only-of-type {\n",
       "        vertical-align: middle;\n",
       "    }\n",
       "\n",
       "    .dataframe tbody tr th {\n",
       "        vertical-align: top;\n",
       "    }\n",
       "\n",
       "    .dataframe thead th {\n",
       "        text-align: right;\n",
       "    }\n",
       "</style>\n",
       "<table border=\"1\" class=\"dataframe\">\n",
       "  <thead>\n",
       "    <tr style=\"text-align: right;\">\n",
       "      <th></th>\n",
       "      <th>key</th>\n",
       "      <th>fare_amount</th>\n",
       "      <th>pickup_datetime</th>\n",
       "      <th>pickup_longitude</th>\n",
       "      <th>pickup_latitude</th>\n",
       "      <th>dropoff_longitude</th>\n",
       "      <th>dropoff_latitude</th>\n",
       "      <th>passenger_count</th>\n",
       "    </tr>\n",
       "  </thead>\n",
       "  <tbody>\n",
       "    <tr>\n",
       "      <th>0</th>\n",
       "      <td>2009-06-15 17:26:21.0000001</td>\n",
       "      <td>4.5</td>\n",
       "      <td>2009-06-15 17:26:21 UTC</td>\n",
       "      <td>-73.844311</td>\n",
       "      <td>40.721319</td>\n",
       "      <td>-73.841610</td>\n",
       "      <td>40.712278</td>\n",
       "      <td>1</td>\n",
       "    </tr>\n",
       "    <tr>\n",
       "      <th>1</th>\n",
       "      <td>2010-01-05 16:52:16.0000002</td>\n",
       "      <td>16.9</td>\n",
       "      <td>2010-01-05 16:52:16 UTC</td>\n",
       "      <td>-74.016048</td>\n",
       "      <td>40.711303</td>\n",
       "      <td>-73.979268</td>\n",
       "      <td>40.782004</td>\n",
       "      <td>1</td>\n",
       "    </tr>\n",
       "    <tr>\n",
       "      <th>2</th>\n",
       "      <td>2011-08-18 00:35:00.00000049</td>\n",
       "      <td>5.7</td>\n",
       "      <td>2011-08-18 00:35:00 UTC</td>\n",
       "      <td>-73.982738</td>\n",
       "      <td>40.761270</td>\n",
       "      <td>-73.991242</td>\n",
       "      <td>40.750562</td>\n",
       "      <td>2</td>\n",
       "    </tr>\n",
       "    <tr>\n",
       "      <th>3</th>\n",
       "      <td>2012-04-21 04:30:42.0000001</td>\n",
       "      <td>7.7</td>\n",
       "      <td>2012-04-21 04:30:42 UTC</td>\n",
       "      <td>-73.987130</td>\n",
       "      <td>40.733143</td>\n",
       "      <td>-73.991567</td>\n",
       "      <td>40.758092</td>\n",
       "      <td>1</td>\n",
       "    </tr>\n",
       "    <tr>\n",
       "      <th>4</th>\n",
       "      <td>2010-03-09 07:51:00.000000135</td>\n",
       "      <td>5.3</td>\n",
       "      <td>2010-03-09 07:51:00 UTC</td>\n",
       "      <td>-73.968095</td>\n",
       "      <td>40.768008</td>\n",
       "      <td>-73.956655</td>\n",
       "      <td>40.783762</td>\n",
       "      <td>1</td>\n",
       "    </tr>\n",
       "    <tr>\n",
       "      <th>...</th>\n",
       "      <td>...</td>\n",
       "      <td>...</td>\n",
       "      <td>...</td>\n",
       "      <td>...</td>\n",
       "      <td>...</td>\n",
       "      <td>...</td>\n",
       "      <td>...</td>\n",
       "      <td>...</td>\n",
       "    </tr>\n",
       "    <tr>\n",
       "      <th>95</th>\n",
       "      <td>2013-07-06 17:18:00.000000119</td>\n",
       "      <td>13.5</td>\n",
       "      <td>2013-07-06 17:18:00 UTC</td>\n",
       "      <td>-73.950655</td>\n",
       "      <td>40.783282</td>\n",
       "      <td>-73.984365</td>\n",
       "      <td>40.769802</td>\n",
       "      <td>1</td>\n",
       "    </tr>\n",
       "    <tr>\n",
       "      <th>96</th>\n",
       "      <td>2013-10-08 17:29:00.00000025</td>\n",
       "      <td>7.5</td>\n",
       "      <td>2013-10-08 17:29:00 UTC</td>\n",
       "      <td>-73.976512</td>\n",
       "      <td>40.765277</td>\n",
       "      <td>-73.977672</td>\n",
       "      <td>40.778052</td>\n",
       "      <td>1</td>\n",
       "    </tr>\n",
       "    <tr>\n",
       "      <th>97</th>\n",
       "      <td>2014-12-07 12:26:00.0000009</td>\n",
       "      <td>9.0</td>\n",
       "      <td>2014-12-07 12:26:00 UTC</td>\n",
       "      <td>-73.984977</td>\n",
       "      <td>40.752122</td>\n",
       "      <td>-74.000925</td>\n",
       "      <td>40.757982</td>\n",
       "      <td>1</td>\n",
       "    </tr>\n",
       "    <tr>\n",
       "      <th>98</th>\n",
       "      <td>2015-05-17 08:02:59.0000002</td>\n",
       "      <td>14.0</td>\n",
       "      <td>2015-05-17 08:02:59 UTC</td>\n",
       "      <td>-73.979210</td>\n",
       "      <td>40.723682</td>\n",
       "      <td>-74.017464</td>\n",
       "      <td>40.711395</td>\n",
       "      <td>1</td>\n",
       "    </tr>\n",
       "    <tr>\n",
       "      <th>99</th>\n",
       "      <td>2011-06-09 00:53:00.00000066</td>\n",
       "      <td>5.7</td>\n",
       "      <td>2011-06-09 00:53:00 UTC</td>\n",
       "      <td>-73.983052</td>\n",
       "      <td>40.722588</td>\n",
       "      <td>-73.988022</td>\n",
       "      <td>40.733738</td>\n",
       "      <td>3</td>\n",
       "    </tr>\n",
       "  </tbody>\n",
       "</table>\n",
       "<p>100 rows × 8 columns</p>\n",
       "</div>"
      ],
      "text/plain": [
       "                              key  fare_amount          pickup_datetime  \\\n",
       "0     2009-06-15 17:26:21.0000001          4.5  2009-06-15 17:26:21 UTC   \n",
       "1     2010-01-05 16:52:16.0000002         16.9  2010-01-05 16:52:16 UTC   \n",
       "2    2011-08-18 00:35:00.00000049          5.7  2011-08-18 00:35:00 UTC   \n",
       "3     2012-04-21 04:30:42.0000001          7.7  2012-04-21 04:30:42 UTC   \n",
       "4   2010-03-09 07:51:00.000000135          5.3  2010-03-09 07:51:00 UTC   \n",
       "..                            ...          ...                      ...   \n",
       "95  2013-07-06 17:18:00.000000119         13.5  2013-07-06 17:18:00 UTC   \n",
       "96   2013-10-08 17:29:00.00000025          7.5  2013-10-08 17:29:00 UTC   \n",
       "97    2014-12-07 12:26:00.0000009          9.0  2014-12-07 12:26:00 UTC   \n",
       "98    2015-05-17 08:02:59.0000002         14.0  2015-05-17 08:02:59 UTC   \n",
       "99   2011-06-09 00:53:00.00000066          5.7  2011-06-09 00:53:00 UTC   \n",
       "\n",
       "    pickup_longitude  pickup_latitude  dropoff_longitude  dropoff_latitude  \\\n",
       "0         -73.844311        40.721319         -73.841610         40.712278   \n",
       "1         -74.016048        40.711303         -73.979268         40.782004   \n",
       "2         -73.982738        40.761270         -73.991242         40.750562   \n",
       "3         -73.987130        40.733143         -73.991567         40.758092   \n",
       "4         -73.968095        40.768008         -73.956655         40.783762   \n",
       "..               ...              ...                ...               ...   \n",
       "95        -73.950655        40.783282         -73.984365         40.769802   \n",
       "96        -73.976512        40.765277         -73.977672         40.778052   \n",
       "97        -73.984977        40.752122         -74.000925         40.757982   \n",
       "98        -73.979210        40.723682         -74.017464         40.711395   \n",
       "99        -73.983052        40.722588         -73.988022         40.733738   \n",
       "\n",
       "    passenger_count  \n",
       "0                 1  \n",
       "1                 1  \n",
       "2                 2  \n",
       "3                 1  \n",
       "4                 1  \n",
       "..              ...  \n",
       "95                1  \n",
       "96                1  \n",
       "97                1  \n",
       "98                1  \n",
       "99                3  \n",
       "\n",
       "[100 rows x 8 columns]"
      ]
     },
     "execution_count": 6,
     "metadata": {},
     "output_type": "execute_result"
    }
   ],
   "source": [
    "df"
   ]
  },
  {
   "cell_type": "code",
   "execution_count": 7,
   "metadata": {},
   "outputs": [],
   "source": [
    "from MinTrainer.trainer import Trainer"
   ]
  },
  {
   "cell_type": "code",
   "execution_count": 8,
   "metadata": {},
   "outputs": [
    {
     "name": "stderr",
     "output_type": "stream",
     "text": [
      "/Users/gmanchon/.pyenv/versions/3.8.5/envs/data_502/lib/python3.8/site-packages/ipykernel/ipkernel.py:287: DeprecationWarning: `should_run_async` will not call `transform_cell` automatically in the future. Please pass the result to `transformed_cell` argument and any exception that happen during thetransform in `preprocessing_exc_tuple` in IPython 7.17 and above.\n",
      "  and should_run_async(code)\n"
     ]
    }
   ],
   "source": [
    "params = dict(\n",
    "    estimator=\"randomforest\"\n",
    ")"
   ]
  },
  {
   "cell_type": "code",
   "execution_count": 9,
   "metadata": {},
   "outputs": [],
   "source": [
    "trainer = Trainer(params)"
   ]
  },
  {
   "cell_type": "code",
   "execution_count": 10,
   "metadata": {},
   "outputs": [],
   "source": [
    "pipeline = trainer.train() # push data to mlflow\n",
    "\n",
    "\n",
    "\n"
   ]
  },
  {
   "cell_type": "code",
   "execution_count": 11,
   "metadata": {},
   "outputs": [
    {
     "name": "stderr",
     "output_type": "stream",
     "text": [
      "/Users/gmanchon/.pyenv/versions/3.8.5/envs/data_502/lib/python3.8/site-packages/ipykernel/ipkernel.py:287: DeprecationWarning: `should_run_async` will not call `transform_cell` automatically in the future. Please pass the result to `transformed_cell` argument and any exception that happen during thetransform in `preprocessing_exc_tuple` in IPython 7.17 and above.\n",
      "  and should_run_async(code)\n"
     ]
    },
    {
     "data": {
      "text/plain": [
       "{'memory': None,\n",
       " 'steps': [('features',\n",
       "   ColumnTransformer(n_jobs=None, remainder='drop', sparse_threshold=0.3,\n",
       "                     transformer_weights=None,\n",
       "                     transformers=[('distance',\n",
       "                                    Pipeline(memory=None,\n",
       "                                             steps=[('distancetransformer',\n",
       "                                                     DistanceTransformer()),\n",
       "                                                    ('standardscaler',\n",
       "                                                     StandardScaler(copy=True,\n",
       "                                                                    with_mean=True,\n",
       "                                                                    with_std=True))],\n",
       "                                             verbose=False),\n",
       "                                    ['pickup_latitude', 'pickup_longitude',\n",
       "                                     'dropoff_latitude', 'dropoff_longitude'])],\n",
       "                     verbose=False)),\n",
       "  ('model',\n",
       "   RandomForestRegressor(bootstrap=True, ccp_alpha=0.0, criterion='mse',\n",
       "                         max_depth=3, max_features='auto', max_leaf_nodes=None,\n",
       "                         max_samples=None, min_impurity_decrease=0.0,\n",
       "                         min_impurity_split=None, min_samples_leaf=2,\n",
       "                         min_samples_split=2, min_weight_fraction_leaf=0.0,\n",
       "                         n_estimators=100, n_jobs=None, oob_score=False,\n",
       "                         random_state=None, verbose=0, warm_start=False))],\n",
       " 'verbose': False,\n",
       " 'features': ColumnTransformer(n_jobs=None, remainder='drop', sparse_threshold=0.3,\n",
       "                   transformer_weights=None,\n",
       "                   transformers=[('distance',\n",
       "                                  Pipeline(memory=None,\n",
       "                                           steps=[('distancetransformer',\n",
       "                                                   DistanceTransformer()),\n",
       "                                                  ('standardscaler',\n",
       "                                                   StandardScaler(copy=True,\n",
       "                                                                  with_mean=True,\n",
       "                                                                  with_std=True))],\n",
       "                                           verbose=False),\n",
       "                                  ['pickup_latitude', 'pickup_longitude',\n",
       "                                   'dropoff_latitude', 'dropoff_longitude'])],\n",
       "                   verbose=False),\n",
       " 'model': RandomForestRegressor(bootstrap=True, ccp_alpha=0.0, criterion='mse',\n",
       "                       max_depth=3, max_features='auto', max_leaf_nodes=None,\n",
       "                       max_samples=None, min_impurity_decrease=0.0,\n",
       "                       min_impurity_split=None, min_samples_leaf=2,\n",
       "                       min_samples_split=2, min_weight_fraction_leaf=0.0,\n",
       "                       n_estimators=100, n_jobs=None, oob_score=False,\n",
       "                       random_state=None, verbose=0, warm_start=False),\n",
       " 'features__n_jobs': None,\n",
       " 'features__remainder': 'drop',\n",
       " 'features__sparse_threshold': 0.3,\n",
       " 'features__transformer_weights': None,\n",
       " 'features__transformers': [('distance',\n",
       "   Pipeline(memory=None,\n",
       "            steps=[('distancetransformer', DistanceTransformer()),\n",
       "                   ('standardscaler',\n",
       "                    StandardScaler(copy=True, with_mean=True, with_std=True))],\n",
       "            verbose=False),\n",
       "   ['pickup_latitude',\n",
       "    'pickup_longitude',\n",
       "    'dropoff_latitude',\n",
       "    'dropoff_longitude'])],\n",
       " 'features__verbose': False,\n",
       " 'features__distance': Pipeline(memory=None,\n",
       "          steps=[('distancetransformer', DistanceTransformer()),\n",
       "                 ('standardscaler',\n",
       "                  StandardScaler(copy=True, with_mean=True, with_std=True))],\n",
       "          verbose=False),\n",
       " 'features__distance__memory': None,\n",
       " 'features__distance__steps': [('distancetransformer', DistanceTransformer()),\n",
       "  ('standardscaler',\n",
       "   StandardScaler(copy=True, with_mean=True, with_std=True))],\n",
       " 'features__distance__verbose': False,\n",
       " 'features__distance__distancetransformer': DistanceTransformer(),\n",
       " 'features__distance__standardscaler': StandardScaler(copy=True, with_mean=True, with_std=True),\n",
       " 'features__distance__standardscaler__copy': True,\n",
       " 'features__distance__standardscaler__with_mean': True,\n",
       " 'features__distance__standardscaler__with_std': True,\n",
       " 'model__bootstrap': True,\n",
       " 'model__ccp_alpha': 0.0,\n",
       " 'model__criterion': 'mse',\n",
       " 'model__max_depth': 3,\n",
       " 'model__max_features': 'auto',\n",
       " 'model__max_leaf_nodes': None,\n",
       " 'model__max_samples': None,\n",
       " 'model__min_impurity_decrease': 0.0,\n",
       " 'model__min_impurity_split': None,\n",
       " 'model__min_samples_leaf': 2,\n",
       " 'model__min_samples_split': 2,\n",
       " 'model__min_weight_fraction_leaf': 0.0,\n",
       " 'model__n_estimators': 100,\n",
       " 'model__n_jobs': None,\n",
       " 'model__oob_score': False,\n",
       " 'model__random_state': None,\n",
       " 'model__verbose': 0,\n",
       " 'model__warm_start': False}"
      ]
     },
     "execution_count": 11,
     "metadata": {},
     "output_type": "execute_result"
    }
   ],
   "source": [
    "pipeline.get_params()\n"
   ]
  },
  {
   "cell_type": "code",
   "execution_count": 12,
   "metadata": {},
   "outputs": [
    {
     "name": "stdout",
     "output_type": "stream",
     "text": [
      "pred: [ 8.91976886  5.03854534  8.53150681 13.60038854  7.72716995  8.91976886\n",
      " 13.36994654  7.72716995  7.72716995]\n",
      "rmse: 1.9195502036142746\n"
     ]
    }
   ],
   "source": [
    "trainer.predict()\n"
   ]
  },
  {
   "cell_type": "code",
   "execution_count": 13,
   "metadata": {},
   "outputs": [
    {
     "name": "stderr",
     "output_type": "stream",
     "text": [
      "/Users/gmanchon/.pyenv/versions/3.8.5/envs/data_502/lib/python3.8/site-packages/ipykernel/ipkernel.py:287: DeprecationWarning: `should_run_async` will not call `transform_cell` automatically in the future. Please pass the result to `transformed_cell` argument and any exception that happen during thetransform in `preprocessing_exc_tuple` in IPython 7.17 and above.\n",
      "  and should_run_async(code)\n"
     ]
    }
   ],
   "source": [
    "trainer.evaluate()"
   ]
  },
  {
   "cell_type": "code",
   "execution_count": 14,
   "metadata": {},
   "outputs": [
    {
     "name": "stdout",
     "output_type": "stream",
     "text": [
      "{'estimator': 'randomforest'}\n"
     ]
    }
   ],
   "source": [
    "trainer.save_model()"
   ]
  }
 ],
 "metadata": {
  "kernelspec": {
   "display_name": "Python 3",
   "language": "python",
   "name": "python3"
  },
  "language_info": {
   "codemirror_mode": {
    "name": "ipython",
    "version": 3
   },
   "file_extension": ".py",
   "mimetype": "text/x-python",
   "name": "python",
   "nbconvert_exporter": "python",
   "pygments_lexer": "ipython3",
   "version": "3.8.5"
  },
  "toc": {
   "base_numbering": 1,
   "nav_menu": {},
   "number_sections": true,
   "sideBar": true,
   "skip_h1_title": false,
   "title_cell": "Table of Contents",
   "title_sidebar": "Contents",
   "toc_cell": false,
   "toc_position": {},
   "toc_section_display": true,
   "toc_window_display": false
  },
  "varInspector": {
   "cols": {
    "lenName": 16,
    "lenType": 16,
    "lenVar": 40
   },
   "kernels_config": {
    "python": {
     "delete_cmd_postfix": "",
     "delete_cmd_prefix": "del ",
     "library": "var_list.py",
     "varRefreshCmd": "print(var_dic_list())"
    },
    "r": {
     "delete_cmd_postfix": ") ",
     "delete_cmd_prefix": "rm(",
     "library": "var_list.r",
     "varRefreshCmd": "cat(var_dic_list()) "
    }
   },
   "types_to_exclude": [
    "module",
    "function",
    "builtin_function_or_method",
    "instance",
    "_Feature"
   ],
   "window_display": false
  }
 },
 "nbformat": 4,
 "nbformat_minor": 4
}
