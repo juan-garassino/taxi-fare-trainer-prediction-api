{
 "cells": [
  {
   "cell_type": "markdown",
   "metadata": {},
   "source": [
    "# data.py"
   ]
  },
  {
   "cell_type": "code",
   "execution_count": null,
   "metadata": {},
   "outputs": [],
   "source": [
    "def get_data():\n",
    "    url = 's3://wagon-public-datasets/taxi-fare-train.csv'\n",
    "    df = pd.read_csv(url, nrows=100)\n",
    "\n",
    "    return df\n",
    "\n",
    "def get_data_from_gcp():\n",
    "\n",
    "    data_file = 'data/data_from_gcp.csv'\n",
    "\n",
    "    client = storage.Client().bucket(BUCKET_NAME)\n",
    "\n",
    "    blob = client.blob(BUCKET_TRAIN_DATA_PATH)\n",
    "\n",
    "    blob.download_to_filename(data_file)\n",
    "\n",
    "    df = pd.read_csv(data_file)\n",
    "    return df"
   ]
  },
  {
   "cell_type": "markdown",
   "metadata": {},
   "source": [
    "# setup.py"
   ]
  },
  {
   "cell_type": "code",
   "execution_count": null,
   "metadata": {},
   "outputs": [],
   "source": [
    "from setuptools import find_packages\n",
    "from setuptools import setup\n",
    "\n",
    "REQUIRED_PACKAGES = [\n",
    "    # training\n",
    "    'numpy==1.18.4',\n",
    "    'pandas==0.24.2',\n",
    "    'scikit-learn==0.20.4',\n",
    "    'joblib==0.14.1',\n",
    "    # tracking\n",
    "    'memoized-property==1.0.3',\n",
    "    'mlflow==1.8.0',\n",
    "    # storage\n",
    "    's3fs==0.4.2',\n",
    "    'gcsfs==0.6.0',\n",
    "    'google-cloud-storage==1.26.0',\n",
    "    # logs\n",
    "    'termcolor==1.1.0']\n",
    "\n",
    "setup(\n",
    "    name='TaxiFareModel450',\n",
    "    version='1.0',\n",
    "    install_requires=REQUIRED_PACKAGES,\n",
    "    packages=find_packages(),\n",
    "    include_package_data=True,\n",
    "    description='Taxi Fare Prediction Pipeline 450'\n",
    ")"
   ]
  },
  {
   "cell_type": "markdown",
   "metadata": {},
   "source": [
    "# params.py"
   ]
  },
  {
   "cell_type": "code",
   "execution_count": null,
   "metadata": {},
   "outputs": [],
   "source": [
    "# bucket\n",
    "BUCKET_NAME = 'le-wagon-data-gmanchon-batch-414'\n",
    "\n",
    "# train dataset\n",
    "BUCKET_TRAIN_DATA_PATH = 'data/train_1k.csv'\n",
    "\n",
    "# test dataset\n",
    "# BUCKET_TRAIN_DATA_PATH = 'data_for_prediction.csv'\n",
    "\n",
    "# joblib storage path\n",
    "MODEL_BASE_PATH = 'taxifare_450'"
   ]
  },
  {
   "cell_type": "markdown",
   "metadata": {},
   "source": [
    "# gcp.py"
   ]
  },
  {
   "cell_type": "code",
   "execution_count": null,
   "metadata": {},
   "outputs": [],
   "source": [
    "from Taxifare.params import BUCKET_NAME, MODEL_BASE_PATH\n",
    "\n",
    "from google.cloud import storage\n",
    "\n",
    "def upload_model_to_gcp(local_model_filename, gcp_model_path):\n",
    "\n",
    "    # models/taxifare_450/.../model.joblib\n",
    "    storage_location = 'models_450/{}/{}/{}'.format(\n",
    "        MODEL_BASE_PATH,\n",
    "        gcp_model_path,\n",
    "        'model.joblib')\n",
    "\n",
    "    client = storage.Client().bucket(BUCKET_NAME)\n",
    "\n",
    "    blob = client.blob(storage_location)\n",
    "\n",
    "    blob.upload_from_filename(local_model_filename)"
   ]
  },
  {
   "cell_type": "markdown",
   "metadata": {},
   "source": [
    "# Makefile"
   ]
  },
  {
   "cell_type": "code",
   "execution_count": null,
   "metadata": {},
   "outputs": [],
   "source": [
    "# bucket\n",
    "BUCKET_NAME=le-wagon-data-gmanchon-batch-414\n",
    "\n",
    "# training folder\n",
    "BUCKET_TRAINING_FOLDER=trainings\n",
    "\n",
    "# training params\n",
    "REGION=europe-west1\n",
    "\n",
    "# app environment\n",
    "PYTHON_VERSION=3.7\n",
    "FRAMEWORK=scikit-learn\n",
    "RUNTIME_VERSION=1.15\n",
    "\n",
    "# package params\n",
    "PACKAGE_NAME=Taxifare\n",
    "FILENAME=trainer\n",
    "\n",
    "# pred\n",
    "# PRED_FILENAME=predict\n",
    "\n",
    "##### Job - - - - - - - - - - - - - - - - - - - - - - - - -\n",
    "\n",
    "JOB_NAME=taxi_fare_training_pipeline_450_$(shell date +'%Y%m%d_%H%M%S')\n",
    "\n",
    "gcp_submit_training:\n",
    "\tgcloud ai-platform jobs submit training ${JOB_NAME} \\\n",
    "\t\t--job-dir gs://${BUCKET_NAME}/${BUCKET_TRAINING_FOLDER} \\\n",
    "\t\t--package-path ${PACKAGE_NAME} \\\n",
    "\t\t--module-name ${PACKAGE_NAME}.${FILENAME} \\\n",
    "\t\t--python-version=${PYTHON_VERSION} \\\n",
    "\t\t--runtime-version=${RUNTIME_VERSION} \\\n",
    "    --config config.yaml \\\n",
    "\t\t--region ${REGION} \\\n",
    "\t\t--stream-logs\n",
    "\n",
    "predict:\n",
    "\tpython ${PRED_FILENAME}.py"
   ]
  }
 ],
 "metadata": {
  "kernelspec": {
   "display_name": "Python 3",
   "language": "python",
   "name": "python3"
  },
  "language_info": {
   "codemirror_mode": {
    "name": "ipython",
    "version": 3
   },
   "file_extension": ".py",
   "mimetype": "text/x-python",
   "name": "python",
   "nbconvert_exporter": "python",
   "pygments_lexer": "ipython3",
   "version": "3.7.7"
  },
  "toc": {
   "base_numbering": 1,
   "nav_menu": {},
   "number_sections": true,
   "sideBar": true,
   "skip_h1_title": false,
   "title_cell": "Table of Contents",
   "title_sidebar": "Contents",
   "toc_cell": false,
   "toc_position": {},
   "toc_section_display": true,
   "toc_window_display": false
  },
  "varInspector": {
   "cols": {
    "lenName": 16,
    "lenType": 16,
    "lenVar": 40
   },
   "kernels_config": {
    "python": {
     "delete_cmd_postfix": "",
     "delete_cmd_prefix": "del ",
     "library": "var_list.py",
     "varRefreshCmd": "print(var_dic_list())"
    },
    "r": {
     "delete_cmd_postfix": ") ",
     "delete_cmd_prefix": "rm(",
     "library": "var_list.r",
     "varRefreshCmd": "cat(var_dic_list()) "
    }
   },
   "types_to_exclude": [
    "module",
    "function",
    "builtin_function_or_method",
    "instance",
    "_Feature"
   ],
   "window_display": false
  }
 },
 "nbformat": 4,
 "nbformat_minor": 4
}
